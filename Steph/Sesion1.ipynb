{
 "cells": [
  {
   "cell_type": "code",
   "execution_count": 10,
   "metadata": {},
   "outputs": [],
   "source": [
    "import pandas as pd\n",
    "import numpy as np\n",
    "import matplotlib.pyplot as plt\n",
    "import seaborn as sns\n",
    "from scipy import stats"
   ]
  },
  {
   "cell_type": "code",
   "execution_count": 11,
   "metadata": {},
   "outputs": [
    {
     "data": {
      "text/html": [
       "<div>\n",
       "<style scoped>\n",
       "    .dataframe tbody tr th:only-of-type {\n",
       "        vertical-align: middle;\n",
       "    }\n",
       "\n",
       "    .dataframe tbody tr th {\n",
       "        vertical-align: top;\n",
       "    }\n",
       "\n",
       "    .dataframe thead th {\n",
       "        text-align: right;\n",
       "    }\n",
       "</style>\n",
       "<table border=\"1\" class=\"dataframe\">\n",
       "  <thead>\n",
       "    <tr style=\"text-align: right;\">\n",
       "      <th></th>\n",
       "      <th>Rank</th>\n",
       "      <th>Restaurant</th>\n",
       "      <th>Sales</th>\n",
       "      <th>Average Check</th>\n",
       "      <th>City</th>\n",
       "      <th>State</th>\n",
       "      <th>Meals Served</th>\n",
       "    </tr>\n",
       "  </thead>\n",
       "  <tbody>\n",
       "    <tr>\n",
       "      <th>0</th>\n",
       "      <td>1</td>\n",
       "      <td>Carmine's (Times Square)</td>\n",
       "      <td>39080335.0</td>\n",
       "      <td>40</td>\n",
       "      <td>New York</td>\n",
       "      <td>N.Y.</td>\n",
       "      <td>469803.0</td>\n",
       "    </tr>\n",
       "    <tr>\n",
       "      <th>1</th>\n",
       "      <td>2</td>\n",
       "      <td>The Boathouse Orlando</td>\n",
       "      <td>35218364.0</td>\n",
       "      <td>43</td>\n",
       "      <td>Orlando</td>\n",
       "      <td>Fla.</td>\n",
       "      <td>820819.0</td>\n",
       "    </tr>\n",
       "    <tr>\n",
       "      <th>2</th>\n",
       "      <td>3</td>\n",
       "      <td>Old Ebbitt Grill</td>\n",
       "      <td>29104017.0</td>\n",
       "      <td>33</td>\n",
       "      <td>Washington</td>\n",
       "      <td>D.C.</td>\n",
       "      <td>892830.0</td>\n",
       "    </tr>\n",
       "    <tr>\n",
       "      <th>3</th>\n",
       "      <td>4</td>\n",
       "      <td>LAVO Italian Restaurant &amp; Nightclub</td>\n",
       "      <td>26916180.0</td>\n",
       "      <td>90</td>\n",
       "      <td>New York</td>\n",
       "      <td>N.Y.</td>\n",
       "      <td>198500.0</td>\n",
       "    </tr>\n",
       "    <tr>\n",
       "      <th>4</th>\n",
       "      <td>5</td>\n",
       "      <td>Bryant Park Grill &amp; Cafe</td>\n",
       "      <td>26900000.0</td>\n",
       "      <td>62</td>\n",
       "      <td>New York</td>\n",
       "      <td>N.Y.</td>\n",
       "      <td>403000.0</td>\n",
       "    </tr>\n",
       "  </tbody>\n",
       "</table>\n",
       "</div>"
      ],
      "text/plain": [
       "   Rank                           Restaurant       Sales  Average Check  \\\n",
       "0     1             Carmine's (Times Square)  39080335.0             40   \n",
       "1     2                The Boathouse Orlando  35218364.0             43   \n",
       "2     3                     Old Ebbitt Grill  29104017.0             33   \n",
       "3     4  LAVO Italian Restaurant & Nightclub  26916180.0             90   \n",
       "4     5             Bryant Park Grill & Cafe  26900000.0             62   \n",
       "\n",
       "         City State  Meals Served  \n",
       "0    New York  N.Y.      469803.0  \n",
       "1    Orlando   Fla.      820819.0  \n",
       "2  Washington  D.C.      892830.0  \n",
       "3    New York  N.Y.      198500.0  \n",
       "4    New York  N.Y.      403000.0  "
      ]
     },
     "execution_count": 11,
     "metadata": {},
     "output_type": "execute_result"
    }
   ],
   "source": [
    "#Top 100 de Restaurantes mejor evaluados según el sitio web www.restaurantbusinessonline.com\n",
    "df = pd.read_csv('Restaurant-Dataset/Independence100.csv')\n",
    "df.head(5)"
   ]
  },
  {
   "cell_type": "code",
   "execution_count": 12,
   "metadata": {},
   "outputs": [
    {
     "data": {
      "text/plain": [
       "17833434.32"
      ]
     },
     "execution_count": 12,
     "metadata": {},
     "output_type": "execute_result"
    }
   ],
   "source": [
    "#Promedio de ventas anuales 2020 de restaurantes independientes\n",
    "df['Sales'].mean()"
   ]
  },
  {
   "cell_type": "code",
   "execution_count": 13,
   "metadata": {},
   "outputs": [
    {
     "data": {
      "text/plain": [
       "257097.0"
      ]
     },
     "execution_count": 13,
     "metadata": {},
     "output_type": "execute_result"
    }
   ],
   "source": [
    "#Promedio de ventas anuales 2020 de restaurantes independientes\n",
    "df['Meals Served'].median()"
   ]
  },
  {
   "cell_type": "code",
   "execution_count": 14,
   "metadata": {},
   "outputs": [
    {
     "data": {
      "text/plain": [
       "17254433.9375"
      ]
     },
     "execution_count": 14,
     "metadata": {},
     "output_type": "execute_result"
    }
   ],
   "source": [
    "#Media Truncada de Ventas anuales 2020 de restaurantes independientes\n",
    "mt = stats.trim_mean(df['Sales'], 0.1)\n",
    "mt"
   ]
  },
  {
   "cell_type": "code",
   "execution_count": 15,
   "metadata": {},
   "outputs": [],
   "source": [
    "#Promedio de ventas anuales 2020 de restaurantes independientes y la distancia entre la media truncada\n",
    "p = abs(df['Sales'].mean() - mt)"
   ]
  },
  {
   "cell_type": "code",
   "execution_count": 17,
   "metadata": {},
   "outputs": [],
   "source": [
    "#Mediana de ventas anuales 2020 de restaurantes independientes y la distancia entre la media truncada\n",
    "m = abs(df['Sales'].median() - mt)"
   ]
  },
  {
   "cell_type": "code",
   "execution_count": 18,
   "metadata": {},
   "outputs": [
    {
     "name": "stdout",
     "output_type": "stream",
     "text": [
      "Ventas Promedio: 579000.3825000003\n",
      "Distancia mediana: 46341.5625\n",
      "La mediana es más cercana\n"
     ]
    }
   ],
   "source": [
    "#Calculo de distancias para indenticar la mediana o promedio más cercano de ventas anuales 2020 de restaurantes independientes\n",
    "\n",
    "print(\"Ventas Promedio: \" + str(p))\n",
    "print(\"Distancia mediana: \"   + str(m))\n",
    "\n",
    "if (p > m):\n",
    "    print(\"La mediana es más cercana\")\n",
    "else:\n",
    "    print(\"El promedio es más cercano\")"
   ]
  },
  {
   "cell_type": "code",
   "execution_count": 19,
   "metadata": {},
   "outputs": [
    {
     "data": {
      "text/plain": [
       "282980.275"
      ]
     },
     "execution_count": 19,
     "metadata": {},
     "output_type": "execute_result"
    }
   ],
   "source": [
    "#Media Truncada de Platillos Vendidos 2020 de restaurantes independientes\n",
    "mt = stats.trim_mean(df['Meals Served'], 0.1)\n",
    "mt"
   ]
  },
  {
   "cell_type": "code",
   "execution_count": 21,
   "metadata": {},
   "outputs": [],
   "source": [
    "#Promedio de platillos vendidos 2020 y la distancia entre la media truncada\n",
    "p = abs(df['Meals Served'].mean() - mt)"
   ]
  },
  {
   "cell_type": "code",
   "execution_count": 23,
   "metadata": {},
   "outputs": [],
   "source": [
    "#Mediana de ventas anuales 2020 de platillos vendidos y la distancia entre la media truncada\n",
    "m = abs(df['Meals Served'].median() - mt)"
   ]
  },
  {
   "cell_type": "code",
   "execution_count": 25,
   "metadata": {},
   "outputs": [
    {
     "name": "stdout",
     "output_type": "stream",
     "text": [
      "Platillos Vendidos 34186.38499999995\n",
      "Distancia mediana: 25883.275000000023\n",
      "La mediana es más cercana\n"
     ]
    }
   ],
   "source": [
    "#Calculo de distancias para indenticar la mediana o promedio más cercano de ventas anuales 2020 de restaurantes independientes\n",
    "print(\"Platillos Vendidos \" + str(p))\n",
    "print(\"Distancia mediana: \"   + str(m))\n",
    "\n",
    "if (p > m):\n",
    "    print(\"La mediana es más cercana\")\n",
    "else:\n",
    "    print(\"El promedio es más cercano\")"
   ]
  },
  {
   "cell_type": "code",
   "execution_count": 27,
   "metadata": {},
   "outputs": [
    {
     "data": {
      "text/plain": [
       "5010408.0280149905"
      ]
     },
     "execution_count": 27,
     "metadata": {},
     "output_type": "execute_result"
    }
   ],
   "source": [
    "#Desviación estándar Ventas anuales 2020\n",
    "df['Sales'].std()"
   ]
  },
  {
   "cell_type": "code",
   "execution_count": 32,
   "metadata": {},
   "outputs": [
    {
     "data": {
      "text/plain": [
       "192211.39001090344"
      ]
     },
     "execution_count": 32,
     "metadata": {},
     "output_type": "execute_result"
    }
   ],
   "source": [
    "#Desviación estándar de Platillos Vendidos 2020\n",
    "df['Meals Served'].std()"
   ]
  },
  {
   "cell_type": "code",
   "execution_count": 33,
   "metadata": {},
   "outputs": [
    {
     "data": {
      "text/plain": [
       "27688657.0"
      ]
     },
     "execution_count": 33,
     "metadata": {},
     "output_type": "execute_result"
    }
   ],
   "source": [
    "#Ventas Máximas . Ventas Mínimas anuales 2020 de restaurantes independientes \n",
    "df['Sales'].max() - df['Sales'].min()"
   ]
  },
  {
   "cell_type": "code",
   "execution_count": 34,
   "metadata": {},
   "outputs": [
    {
     "data": {
      "text/plain": [
       "22224401.0"
      ]
     },
     "execution_count": 34,
     "metadata": {},
     "output_type": "execute_result"
    }
   ],
   "source": [
    "#Percentil del  80%\n",
    "df['Sales'].quantile(0.8)"
   ]
  },
  {
   "cell_type": "code",
   "execution_count": 35,
   "metadata": {},
   "outputs": [
    {
     "name": "stdout",
     "output_type": "stream",
     "text": [
      "Valor mínimo: 11391678.0\n",
      "Percentil 0: 11391678.0\n",
      "Percentil 10: 12504480.0\n",
      "Percentil 25: 14094835.75\n",
      "Percentil 50: 17300775.5\n",
      "Mediana: 17300775.5\n",
      "Percentil 75: 19903916.0\n",
      "Percentil 90: 24291444.0\n",
      "Percentil 100: 39080335.0\n",
      "Valor máximo: 39080335.0\n"
     ]
    }
   ],
   "source": [
    "print(f'Valor mínimo: {df[\"Sales\"].min()}')\n",
    "print(f'Percentil 0: {df[\"Sales\"].quantile(0)}')\n",
    "print(f'Percentil 10: {df[\"Sales\"].quantile(0.1)}')\n",
    "print(f'Percentil 25: {df[\"Sales\"].quantile(0.25)}')\n",
    "print(f'Percentil 50: {df[\"Sales\"].median()}')\n",
    "print(f'Mediana: {df[\"Sales\"].quantile(0.5)}')\n",
    "print(f'Percentil 75: {df[\"Sales\"].quantile(0.75)}')\n",
    "print(f'Percentil 90: {df[\"Sales\"].quantile(0.9)}')\n",
    "print(f'Percentil 100: {df[\"Sales\"].quantile(1)}')\n",
    "print(f'Valor máximo: {df[\"Sales\"].max()}')"
   ]
  }
 ],
 "metadata": {
  "kernelspec": {
   "display_name": "Python 3",
   "language": "python",
   "name": "python3"
  },
  "language_info": {
   "codemirror_mode": {
    "name": "ipython",
    "version": 3
   },
   "file_extension": ".py",
   "mimetype": "text/x-python",
   "name": "python",
   "nbconvert_exporter": "python",
   "pygments_lexer": "ipython3",
   "version": "3.7.6"
  }
 },
 "nbformat": 4,
 "nbformat_minor": 4
}

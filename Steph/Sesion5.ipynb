{
 "cells": [
  {
   "cell_type": "code",
   "execution_count": 1,
   "metadata": {},
   "outputs": [],
   "source": [
    "import seaborn as sns\n",
    "import matplotlib.pyplot as plt\n",
    "import pandas as pd"
   ]
  },
  {
   "cell_type": "code",
   "execution_count": 2,
   "metadata": {},
   "outputs": [
    {
     "data": {
      "text/html": [
       "<div>\n",
       "<style scoped>\n",
       "    .dataframe tbody tr th:only-of-type {\n",
       "        vertical-align: middle;\n",
       "    }\n",
       "\n",
       "    .dataframe tbody tr th {\n",
       "        vertical-align: top;\n",
       "    }\n",
       "\n",
       "    .dataframe thead th {\n",
       "        text-align: right;\n",
       "    }\n",
       "</style>\n",
       "<table border=\"1\" class=\"dataframe\">\n",
       "  <thead>\n",
       "    <tr style=\"text-align: right;\">\n",
       "      <th></th>\n",
       "      <th>Restaurant</th>\n",
       "      <th>Sales</th>\n",
       "      <th>Average Check</th>\n",
       "      <th>City</th>\n",
       "      <th>State</th>\n",
       "      <th>Meals Served</th>\n",
       "    </tr>\n",
       "    <tr>\n",
       "      <th>Rank</th>\n",
       "      <th></th>\n",
       "      <th></th>\n",
       "      <th></th>\n",
       "      <th></th>\n",
       "      <th></th>\n",
       "      <th></th>\n",
       "    </tr>\n",
       "  </thead>\n",
       "  <tbody>\n",
       "    <tr>\n",
       "      <th>1</th>\n",
       "      <td>Carmine's (Times Square)</td>\n",
       "      <td>39080335.0</td>\n",
       "      <td>40</td>\n",
       "      <td>New York</td>\n",
       "      <td>N.Y.</td>\n",
       "      <td>469803.0</td>\n",
       "    </tr>\n",
       "    <tr>\n",
       "      <th>2</th>\n",
       "      <td>The Boathouse Orlando</td>\n",
       "      <td>35218364.0</td>\n",
       "      <td>43</td>\n",
       "      <td>Orlando</td>\n",
       "      <td>Fla.</td>\n",
       "      <td>820819.0</td>\n",
       "    </tr>\n",
       "    <tr>\n",
       "      <th>3</th>\n",
       "      <td>Old Ebbitt Grill</td>\n",
       "      <td>29104017.0</td>\n",
       "      <td>33</td>\n",
       "      <td>Washington</td>\n",
       "      <td>D.C.</td>\n",
       "      <td>892830.0</td>\n",
       "    </tr>\n",
       "    <tr>\n",
       "      <th>4</th>\n",
       "      <td>LAVO Italian Restaurant &amp; Nightclub</td>\n",
       "      <td>26916180.0</td>\n",
       "      <td>90</td>\n",
       "      <td>New York</td>\n",
       "      <td>N.Y.</td>\n",
       "      <td>198500.0</td>\n",
       "    </tr>\n",
       "    <tr>\n",
       "      <th>5</th>\n",
       "      <td>Bryant Park Grill &amp; Cafe</td>\n",
       "      <td>26900000.0</td>\n",
       "      <td>62</td>\n",
       "      <td>New York</td>\n",
       "      <td>N.Y.</td>\n",
       "      <td>403000.0</td>\n",
       "    </tr>\n",
       "    <tr>\n",
       "      <th>...</th>\n",
       "      <td>...</td>\n",
       "      <td>...</td>\n",
       "      <td>...</td>\n",
       "      <td>...</td>\n",
       "      <td>...</td>\n",
       "      <td>...</td>\n",
       "    </tr>\n",
       "    <tr>\n",
       "      <th>96</th>\n",
       "      <td>George's at the Cove</td>\n",
       "      <td>12194000.0</td>\n",
       "      <td>80</td>\n",
       "      <td>La Jolla</td>\n",
       "      <td>Calif.</td>\n",
       "      <td>250000.0</td>\n",
       "    </tr>\n",
       "    <tr>\n",
       "      <th>97</th>\n",
       "      <td>Le Coucou</td>\n",
       "      <td>12187523.0</td>\n",
       "      <td>95</td>\n",
       "      <td>New York</td>\n",
       "      <td>N.Y.</td>\n",
       "      <td>87070.0</td>\n",
       "    </tr>\n",
       "    <tr>\n",
       "      <th>98</th>\n",
       "      <td>Mi Vida</td>\n",
       "      <td>12032014.0</td>\n",
       "      <td>38</td>\n",
       "      <td>Washington</td>\n",
       "      <td>D.C.</td>\n",
       "      <td>226226.0</td>\n",
       "    </tr>\n",
       "    <tr>\n",
       "      <th>99</th>\n",
       "      <td>Upland</td>\n",
       "      <td>11965564.0</td>\n",
       "      <td>52</td>\n",
       "      <td>New York</td>\n",
       "      <td>N.Y.</td>\n",
       "      <td>171825.0</td>\n",
       "    </tr>\n",
       "    <tr>\n",
       "      <th>100</th>\n",
       "      <td>Virgil's Real Barbecue</td>\n",
       "      <td>11391678.0</td>\n",
       "      <td>27</td>\n",
       "      <td>Las Vegas</td>\n",
       "      <td>Nev.</td>\n",
       "      <td>208276.0</td>\n",
       "    </tr>\n",
       "  </tbody>\n",
       "</table>\n",
       "<p>100 rows × 6 columns</p>\n",
       "</div>"
      ],
      "text/plain": [
       "                               Restaurant       Sales  Average Check  \\\n",
       "Rank                                                                   \n",
       "1                Carmine's (Times Square)  39080335.0             40   \n",
       "2                   The Boathouse Orlando  35218364.0             43   \n",
       "3                        Old Ebbitt Grill  29104017.0             33   \n",
       "4     LAVO Italian Restaurant & Nightclub  26916180.0             90   \n",
       "5                Bryant Park Grill & Cafe  26900000.0             62   \n",
       "...                                   ...         ...            ...   \n",
       "96                   George's at the Cove  12194000.0             80   \n",
       "97                              Le Coucou  12187523.0             95   \n",
       "98                                Mi Vida  12032014.0             38   \n",
       "99                                 Upland  11965564.0             52   \n",
       "100                Virgil's Real Barbecue  11391678.0             27   \n",
       "\n",
       "            City   State  Meals Served  \n",
       "Rank                                    \n",
       "1       New York    N.Y.      469803.0  \n",
       "2       Orlando     Fla.      820819.0  \n",
       "3     Washington    D.C.      892830.0  \n",
       "4       New York    N.Y.      198500.0  \n",
       "5       New York    N.Y.      403000.0  \n",
       "...          ...     ...           ...  \n",
       "96      La Jolla  Calif.      250000.0  \n",
       "97      New York    N.Y.       87070.0  \n",
       "98    Washington    D.C.      226226.0  \n",
       "99      New York    N.Y.      171825.0  \n",
       "100    Las Vegas    Nev.      208276.0  \n",
       "\n",
       "[100 rows x 6 columns]"
      ]
     },
     "execution_count": 2,
     "metadata": {},
     "output_type": "execute_result"
    }
   ],
   "source": [
    "df = pd.read_csv('../Restaurant-Dataset/Independence100.csv',index_col=0)\n",
    "df"
   ]
  },
  {
   "cell_type": "code",
   "execution_count": 13,
   "metadata": {},
   "outputs": [
    {
     "data": {
      "text/plain": [
       "Rank\n",
       "53     16981741.0\n",
       "75     14130500.0\n",
       "6      25409952.0\n",
       "94     12228168.0\n",
       "28     19530159.0\n",
       "21     22181607.0\n",
       "68     14972300.0\n",
       "19     22500000.0\n",
       "38     18248030.0\n",
       "100    11391678.0\n",
       "86     12809921.0\n",
       "40     18159612.0\n",
       "7      25233543.0\n",
       "51     17212800.0\n",
       "67     14978103.0\n",
       "91     12498000.0\n",
       "89     12566618.0\n",
       "56     16154000.0\n",
       "2      35218364.0\n",
       "18     22749232.0\n",
       "Name: Sales, dtype: float64"
      ]
     },
     "execution_count": 13,
     "metadata": {},
     "output_type": "execute_result"
    }
   ],
   "source": [
    "#BOOTSTRAP\n",
    "#Tomamos una muestra Aleatoria\n",
    "df['Sales'].sample(n=20, replace=False)"
   ]
  },
  {
   "cell_type": "code",
   "execution_count": 14,
   "metadata": {},
   "outputs": [],
   "source": [
    "sales = df['Sales']\n",
    "\n",
    "\n",
    "means = []\n",
    "\n",
    "#100_000 usamos el _ para separar el numero y hacerlo mas facil de leer en este caso el numero es el 100mil\n",
    "\n",
    "#obtengo una muestra le saco el promedio y lo guardo\n",
    "#esto para asegurarnos que la muestra obtenido si es representativa\n",
    "for i in range(100_000):\n",
    "    sample = sales.sample(n=50, replace=True)\n",
    "    means.append(sample.mean())\n",
    "    \n",
    "serie_means = pd.Series(means)"
   ]
  },
  {
   "cell_type": "code",
   "execution_count": 12,
   "metadata": {},
   "outputs": [
    {
     "data": {
      "image/png": "[encoded data removed]",
      "text/plain": [
       "<Figure size 432x288 with 1 Axes>"
      ]
     },
     "metadata": {
      "needs_background": "light"
     },
     "output_type": "display_data"
    }
   ],
   "source": [
    "sns.distplot(serie_means);"
   ]
  },
  {
   "cell_type": "code",
   "execution_count": 9,
   "metadata": {},
   "outputs": [
    {
     "data": {
      "text/plain": [
       "0.18586915895260672"
      ]
     },
     "execution_count": 9,
     "metadata": {},
     "output_type": "execute_result"
    }
   ],
   "source": [
    "#skewness es la asimetria y se obtiene con la funcion skew()\n",
    "serie_means.skew()"
   ]
  },
  {
   "cell_type": "code",
   "execution_count": 8,
   "metadata": {},
   "outputs": [
    {
     "data": {
      "text/plain": [
       "0.04408809658136281"
      ]
     },
     "execution_count": 8,
     "metadata": {},
     "output_type": "execute_result"
    }
   ],
   "source": [
    "#la curtosis nos que tan dispersos estan los numeros entre mas cercano a 0 quiere decir que esta mas junta y entre mas ccercana a 1 quiere decir que esta mas dispersa\n",
    "#Los datos estan muy juntos\n",
    "serie_means.kurtosis()"
   ]
  },
  {
   "cell_type": "code",
   "execution_count": 15,
   "metadata": {},
   "outputs": [],
   "source": [
    "#BOOSTRAP \"Averaage Check\"\n",
    "df['Average Check'].sample(n=20, replace=False)\n",
    "average_check = df['Average Check']\n",
    "\n",
    "\n",
    "means2 = []\n",
    "\n",
    "#100_000 usamos el _ para separar el numero y hacerlo mas facil de leer en este caso el numero es el 100mil\n",
    "\n",
    "#obtengo una muestra le saco el promedio y lo guardo\n",
    "#esto para asegurarnos que la muestra obtenido si es representativa\n",
    "for i in range(100_000):\n",
    "    sample = average_check.sample(n=50, replace=True)\n",
    "    means2.append(sample.mean())\n",
    "    \n",
    "serie_means2 = pd.Series(means2)"
   ]
  },
  {
   "cell_type": "code",
   "execution_count": 17,
   "metadata": {},
   "outputs": [
    {
     "data": {
      "image/png": "[encoded data removed]",
      "text/plain": [
       "<Figure size 432x288 with 1 Axes>"
      ]
     },
     "metadata": {
      "needs_background": "light"
     },
     "output_type": "display_data"
    }
   ],
   "source": [
    "sns.distplot(serie_means2);"
   ]
  },
  {
   "cell_type": "code",
   "execution_count": 18,
   "metadata": {},
   "outputs": [],
   "source": [
    "#BOOSTRAP \"Meals Served\"\n",
    "df['Meals Served'].sample(n=20, replace=False)\n",
    "mealsServed = df['Meals Served']\n",
    "\n",
    "\n",
    "means3 = []\n",
    "\n",
    "#100_000 usamos el _ para separar el numero y hacerlo mas facil de leer en este caso el numero es el 100mil\n",
    "\n",
    "#obtengo una muestra le saco el promedio y lo guardo\n",
    "#esto para asegurarnos que la muestra obtenido si es representativa\n",
    "for i in range(100_000):\n",
    "    sample = mealsServed.sample(n=50, replace=True)\n",
    "    means3.append(sample.mean())\n",
    "    \n",
    "serie_means3 = pd.Series(means3)"
   ]
  },
  {
   "cell_type": "code",
   "execution_count": 19,
   "metadata": {},
   "outputs": [
    {
     "data": {
      "image/png": "[encoded data removed]",
      "text/plain": [
       "<Figure size 432x288 with 1 Axes>"
      ]
     },
     "metadata": {
      "needs_background": "light"
     },
     "output_type": "display_data"
    }
   ],
   "source": [
    "sns.distplot(serie_means3);"
   ]
  },
  {
   "cell_type": "code",
   "execution_count": 28,
   "metadata": {},
   "outputs": [],
   "source": [
    "#ERROR STANDARD"
   ]
  },
  {
   "cell_type": "code",
   "execution_count": 24,
   "metadata": {},
   "outputs": [
    {
     "name": "stdout",
     "output_type": "stream",
     "text": [
      "Error estandar Sales: 704769.6029557282\n",
      "Error estandar Average Check: 4.890083115459744\n",
      "Error estandar Meals Served: 27044.052401234192\n"
     ]
    }
   ],
   "source": [
    "#ERROR STANDARD\n",
    "print(f'Error estandar Sales: {serie_means.std()}')\n",
    "print(f'Error estandar Average Check: {serie_means2.std()}')\n",
    "print(f'Error estandar Meals Served: {serie_means3.std()}')"
   ]
  },
  {
   "cell_type": "code",
   "execution_count": 26,
   "metadata": {},
   "outputs": [
    {
     "name": "stdout",
     "output_type": "stream",
     "text": [
      "Valor mínimo Sales: 14967353.4\n",
      "Valor máximo Sales: 21159410.2\n",
      "Rango Sales: 6192056.799999999\n"
     ]
    }
   ],
   "source": [
    "#Columna \"Sales\" Values\n",
    "print(f'Valor mínimo Sales: {serie_means.min()}')\n",
    "print(f'Valor máximo Sales: {serie_means.max()}')\n",
    "print(f'Rango Sales: {serie_means.max() - serie_means.min()}')"
   ]
  },
  {
   "cell_type": "code",
   "execution_count": 29,
   "metadata": {},
   "outputs": [
    {
     "name": "stdout",
     "output_type": "stream",
     "text": [
      "Valor mínimo Average Check: 49.7\n",
      "Valor máximo Average Check: 91.46\n",
      "Rango Average Check: 41.75999999999999\n"
     ]
    }
   ],
   "source": [
    "#Columna \"Average Check\" Values\n",
    "print(f'Valor mínimo Average Check: {serie_means2.min()}')\n",
    "print(f'Valor máximo Average Check: {serie_means2.max()}')\n",
    "print(f'Rango Average Check: {serie_means2.max() - serie_means2.min()}')"
   ]
  },
  {
   "cell_type": "code",
   "execution_count": 31,
   "metadata": {},
   "outputs": [
    {
     "name": "stdout",
     "output_type": "stream",
     "text": [
      "Valor mínimo Meals Served: 227542.98\n",
      "Valor máximo Meals Served: 450577.72\n",
      "Rango Meals Served: 223034.73999999996\n"
     ]
    }
   ],
   "source": [
    "#Columna \"Meals Served\" Values\n",
    "print(f'Valor mínimo Meals Served: {serie_means3.min()}')\n",
    "print(f'Valor máximo Meals Served: {serie_means3.max()}')\n",
    "print(f'Rango Meals Served: {serie_means3.max() - serie_means3.min()}')"
   ]
  },
  {
   "cell_type": "code",
   "execution_count": 32,
   "metadata": {},
   "outputs": [
    {
     "data": {
      "image/png": "[encoded data removed]",
      "text/plain": [
       "<Figure size 432x288 with 1 Axes>"
      ]
     },
     "metadata": {
      "needs_background": "light"
     },
     "output_type": "display_data"
    }
   ],
   "source": [
    "#Sales \n",
    "sns.boxplot(x=serie_means);"
   ]
  },
  {
   "cell_type": "code",
   "execution_count": 33,
   "metadata": {},
   "outputs": [
    {
     "data": {
      "image/png": "[encoded data removed]",
      "text/plain": [
       "<Figure size 432x288 with 1 Axes>"
      ]
     },
     "metadata": {
      "needs_background": "light"
     },
     "output_type": "display_data"
    }
   ],
   "source": [
    "#Average Check\n",
    "sns.boxplot(x=serie_means2);"
   ]
  },
  {
   "cell_type": "code",
   "execution_count": 34,
   "metadata": {},
   "outputs": [
    {
     "data": {
      "image/png": "[encoded data removed]",
      "text/plain": [
       "<Figure size 432x288 with 1 Axes>"
      ]
     },
     "metadata": {
      "needs_background": "light"
     },
     "output_type": "display_data"
    }
   ],
   "source": [
    "#Meals Served\n",
    "sns.boxplot(x=serie_means2);"
   ]
  },
  {
   "cell_type": "code",
   "execution_count": 35,
   "metadata": {},
   "outputs": [],
   "source": [
    "#INTERVALO DE CONFIANZA"
   ]
  },
  {
   "cell_type": "code",
   "execution_count": 37,
   "metadata": {},
   "outputs": [
    {
     "name": "stdout",
     "output_type": "stream",
     "text": [
      "Intervalo de 95% confianza de la media: 16527622.7615 < 17833434.32 < 19280914.6745\n"
     ]
    }
   ],
   "source": [
    "#Sales---->utilizamos cuantiles para tener el intervalo del 95% de confianza\n",
    "limite_inferior = serie_means.quantile(0.025)\n",
    "limite_superior = serie_means.quantile(0.975)\n",
    "print(f'Intervalo de 95% confianza de la media: {limite_inferior} < {sales.mean()} < {limite_superior}')"
   ]
  },
  {
   "cell_type": "code",
   "execution_count": 38,
   "metadata": {},
   "outputs": [
    {
     "name": "stdout",
     "output_type": "stream",
     "text": [
      "Intervalo de 95% confianza de la media: 59.68 < 69.05 < 78.9\n"
     ]
    }
   ],
   "source": [
    "#Average check---->utilizamos cuantiles para tener el intervalo del 95% de confianza\n",
    "limite_inferior2 = serie_means2.quantile(0.025)\n",
    "limite_superior2 = serie_means2.quantile(0.975)\n",
    "print(f'Intervalo de 95% confianza de la media: {limite_inferior2} < {average_check.mean()} < {limite_superior2}')"
   ]
  },
  {
   "cell_type": "code",
   "execution_count": 39,
   "metadata": {},
   "outputs": [
    {
     "name": "stdout",
     "output_type": "stream",
     "text": [
      "Intervalo de 95% confianza de la media: 267454.50299999997 < 317166.66 < 373080.181\n"
     ]
    }
   ],
   "source": [
    "#Meal Served----->utilizamos cuantiles para tener el intervalo del 95% de confianza\n",
    "limite_inferior3 = serie_means3.quantile(0.025)\n",
    "limite_superior3 = serie_means3.quantile(0.975)\n",
    "print(f'Intervalo de 95% confianza de la media: {limite_inferior3} < {mealsServed.mean()} < {limite_superior3}')"
   ]
  },
  {
   "cell_type": "code",
   "execution_count": 40,
   "metadata": {},
   "outputs": [
    {
     "data": {
      "image/png": "[encoded data removed]",
      "text/plain": [
       "<Figure size 432x288 with 1 Axes>"
      ]
     },
     "metadata": {
      "needs_background": "light"
     },
     "output_type": "display_data"
    }
   ],
   "source": [
    "#Sales\n",
    "sns.distplot(serie_means, kde=False)\n",
    "plt.axvline(limite_inferior)\n",
    "plt.axvline(limite_superior);"
   ]
  },
  {
   "cell_type": "code",
   "execution_count": 41,
   "metadata": {},
   "outputs": [
    {
     "data": {
      "image/png": "[encoded data removed]",
      "text/plain": [
       "<Figure size 432x288 with 1 Axes>"
      ]
     },
     "metadata": {
      "needs_background": "light"
     },
     "output_type": "display_data"
    }
   ],
   "source": [
    "#Average check\n",
    "sns.distplot(serie_means2, kde=False)\n",
    "plt.axvline(limite_inferior2)\n",
    "plt.axvline(limite_superior2);"
   ]
  },
  {
   "cell_type": "code",
   "execution_count": 43,
   "metadata": {},
   "outputs": [
    {
     "data": {
      "image/png": "[encoded data removed]",
      "text/plain": [
       "<Figure size 432x288 with 1 Axes>"
      ]
     },
     "metadata": {
      "needs_background": "light"
     },
     "output_type": "display_data"
    }
   ],
   "source": [
    "#Meals Served\n",
    "sns.distplot(serie_means3, kde=False)\n",
    "plt.axvline(limite_inferior3)\n",
    "plt.axvline(limite_superior3);"
   ]
  },
  {
   "cell_type": "code",
   "execution_count": 44,
   "metadata": {},
   "outputs": [
    {
     "data": {
      "image/png": "[encoded data removed]",
      "text/plain": [
       "<Figure size 576x432 with 2 Axes>"
      ]
     },
     "metadata": {
      "needs_background": "light"
     },
     "output_type": "display_data"
    }
   ],
   "source": [
    "#ENTRENAMIENTO PRUEBA\n",
    "#Obtenemos denuevo la matriz de correlacion\n",
    "plt.figure(figsize=(8, 6))\n",
    "ax = sns.heatmap(df.corr(), vmin=-1, vmax=1, annot=True, cmap=\"YlGnBu\", linewidths=.5);"
   ]
  },
  {
   "cell_type": "code",
   "execution_count": 45,
   "metadata": {},
   "outputs": [],
   "source": [
    "#Importamos libreria\n",
    "from sklearn.model_selection import train_test_split"
   ]
  },
  {
   "cell_type": "code",
   "execution_count": 46,
   "metadata": {},
   "outputs": [],
   "source": [
    "#utilizaremos Average check y Meals Served\n",
    "X = df[['Average Check', 'Sales']]\n",
    "y = df['Meals Served']"
   ]
  },
  {
   "cell_type": "code",
   "execution_count": 47,
   "metadata": {},
   "outputs": [
    {
     "data": {
      "text/html": [
       "<div>\n",
       "<style scoped>\n",
       "    .dataframe tbody tr th:only-of-type {\n",
       "        vertical-align: middle;\n",
       "    }\n",
       "\n",
       "    .dataframe tbody tr th {\n",
       "        vertical-align: top;\n",
       "    }\n",
       "\n",
       "    .dataframe thead th {\n",
       "        text-align: right;\n",
       "    }\n",
       "</style>\n",
       "<table border=\"1\" class=\"dataframe\">\n",
       "  <thead>\n",
       "    <tr style=\"text-align: right;\">\n",
       "      <th></th>\n",
       "      <th>Average Check</th>\n",
       "      <th>Sales</th>\n",
       "    </tr>\n",
       "    <tr>\n",
       "      <th>Rank</th>\n",
       "      <th></th>\n",
       "      <th></th>\n",
       "    </tr>\n",
       "  </thead>\n",
       "  <tbody>\n",
       "    <tr>\n",
       "      <th>1</th>\n",
       "      <td>40</td>\n",
       "      <td>39080335.0</td>\n",
       "    </tr>\n",
       "    <tr>\n",
       "      <th>2</th>\n",
       "      <td>43</td>\n",
       "      <td>35218364.0</td>\n",
       "    </tr>\n",
       "    <tr>\n",
       "      <th>3</th>\n",
       "      <td>33</td>\n",
       "      <td>29104017.0</td>\n",
       "    </tr>\n",
       "    <tr>\n",
       "      <th>4</th>\n",
       "      <td>90</td>\n",
       "      <td>26916180.0</td>\n",
       "    </tr>\n",
       "    <tr>\n",
       "      <th>5</th>\n",
       "      <td>62</td>\n",
       "      <td>26900000.0</td>\n",
       "    </tr>\n",
       "    <tr>\n",
       "      <th>...</th>\n",
       "      <td>...</td>\n",
       "      <td>...</td>\n",
       "    </tr>\n",
       "    <tr>\n",
       "      <th>96</th>\n",
       "      <td>80</td>\n",
       "      <td>12194000.0</td>\n",
       "    </tr>\n",
       "    <tr>\n",
       "      <th>97</th>\n",
       "      <td>95</td>\n",
       "      <td>12187523.0</td>\n",
       "    </tr>\n",
       "    <tr>\n",
       "      <th>98</th>\n",
       "      <td>38</td>\n",
       "      <td>12032014.0</td>\n",
       "    </tr>\n",
       "    <tr>\n",
       "      <th>99</th>\n",
       "      <td>52</td>\n",
       "      <td>11965564.0</td>\n",
       "    </tr>\n",
       "    <tr>\n",
       "      <th>100</th>\n",
       "      <td>27</td>\n",
       "      <td>11391678.0</td>\n",
       "    </tr>\n",
       "  </tbody>\n",
       "</table>\n",
       "<p>100 rows × 2 columns</p>\n",
       "</div>"
      ],
      "text/plain": [
       "      Average Check       Sales\n",
       "Rank                           \n",
       "1                40  39080335.0\n",
       "2                43  35218364.0\n",
       "3                33  29104017.0\n",
       "4                90  26916180.0\n",
       "5                62  26900000.0\n",
       "...             ...         ...\n",
       "96               80  12194000.0\n",
       "97               95  12187523.0\n",
       "98               38  12032014.0\n",
       "99               52  11965564.0\n",
       "100              27  11391678.0\n",
       "\n",
       "[100 rows x 2 columns]"
      ]
     },
     "execution_count": 47,
     "metadata": {},
     "output_type": "execute_result"
    }
   ],
   "source": [
    "X"
   ]
  },
  {
   "cell_type": "code",
   "execution_count": 48,
   "metadata": {},
   "outputs": [],
   "source": [
    "X_training, X_test, y_training, y_test = train_test_split(X, y, test_size=0.3, shuffle=True)"
   ]
  },
  {
   "cell_type": "code",
   "execution_count": 49,
   "metadata": {},
   "outputs": [],
   "source": [
    "from sklearn.linear_model import LinearRegression"
   ]
  },
  {
   "cell_type": "code",
   "execution_count": 50,
   "metadata": {},
   "outputs": [
    {
     "data": {
      "text/plain": [
       "0.6829161887872521"
      ]
     },
     "execution_count": 50,
     "metadata": {},
     "output_type": "execute_result"
    }
   ],
   "source": [
    "#El coeficiente de correlacion es mayor que la grafica\n",
    "lr = LinearRegression()\n",
    "lr.fit(X_training, y_training)\n",
    "lr.score(X_test, y_test)"
   ]
  },
  {
   "cell_type": "code",
   "execution_count": 53,
   "metadata": {},
   "outputs": [],
   "source": [
    "#VALIDACIO CRUZADA"
   ]
  },
  {
   "cell_type": "code",
   "execution_count": 55,
   "metadata": {},
   "outputs": [],
   "source": [
    "#imortamos librerias\n",
    "from sklearn.model_selection import cross_validate\n",
    "from sklearn.linear_model import LinearRegression\n",
    "\n",
    "lr2 = LinearRegression()"
   ]
  },
  {
   "cell_type": "code",
   "execution_count": 59,
   "metadata": {},
   "outputs": [
    {
     "data": {
      "text/plain": [
       "{'fit_time': array([0.00299168, 0.0029943 , 0.00350451, 0.00250626, 0.00299287]),\n",
       " 'score_time': array([0.00199437, 0.00199342, 0.0009985 , 0.00199461, 0.00199366]),\n",
       " 'test_score': array([ 0.28274193,  0.11464343,  0.4856829 ,  0.34628182, -0.16557828])}"
      ]
     },
     "execution_count": 59,
     "metadata": {},
     "output_type": "execute_result"
    }
   ],
   "source": [
    "scores = cross_validate(lr2, X, y, scoring='r2')\n",
    "scores\n",
    "#fit_time': tiempo que se tardo en entrenar\n",
    "#'score_time': cuanto se tardo en calcular el score\n",
    "#'test_score: da el R2 para cada iteracion (R cuadrado o coeficiente de determinación o de correlación múltiple que debe ser entre -1 y 1 y queremos que sea lo mas cercano a 1)\n",
    "#si la correlacion es menor a 0.5 antes de el entrenamiento es muy probable que la correlacion sea mayor como en este ejemplo"
   ]
  },
  {
   "cell_type": "code",
   "execution_count": 58,
   "metadata": {},
   "outputs": [
    {
     "name": "stdout",
     "output_type": "stream",
     "text": [
      "Score del modelo: 0.213 +/- 0.224\n"
     ]
    }
   ],
   "source": [
    "print(f'Score del modelo: {scores[\"test_score\"].mean():.3f} +/- {scores[\"test_score\"].std():.3f}')"
   ]
  },
  {
   "cell_type": "code",
   "execution_count": null,
   "metadata": {},
   "outputs": [],
   "source": []
  }
 ],
 "metadata": {
  "kernelspec": {
   "display_name": "Python 3",
   "language": "python",
   "name": "python3"
  },
  "language_info": {
   "codemirror_mode": {
    "name": "ipython",
    "version": 3
   },
   "file_extension": ".py",
   "mimetype": "text/x-python",
   "name": "python",
   "nbconvert_exporter": "python",
   "pygments_lexer": "ipython3",
   "version": "3.7.6"
  }
 },
 "nbformat": 4,
 "nbformat_minor": 4
}

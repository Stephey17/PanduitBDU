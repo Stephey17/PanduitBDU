{
 "cells": [
  {
   "cell_type": "code",
   "execution_count": 1,
   "metadata": {},
   "outputs": [],
   "source": [
    "import seaborn as sns\n",
    "import matplotlib.pyplot as plt\n",
    "import pandas as pd\n"
   ]
  },
  {
   "cell_type": "code",
   "execution_count": 39,
   "metadata": {},
   "outputs": [
    {
     "data": {
      "text/html": [
       "<div>\n",
       "<style scoped>\n",
       "    .dataframe tbody tr th:only-of-type {\n",
       "        vertical-align: middle;\n",
       "    }\n",
       "\n",
       "    .dataframe tbody tr th {\n",
       "        vertical-align: top;\n",
       "    }\n",
       "\n",
       "    .dataframe thead th {\n",
       "        text-align: right;\n",
       "    }\n",
       "</style>\n",
       "<table border=\"1\" class=\"dataframe\">\n",
       "  <thead>\n",
       "    <tr style=\"text-align: right;\">\n",
       "      <th></th>\n",
       "      <th>Restaurant</th>\n",
       "      <th>Sales</th>\n",
       "      <th>Average Check</th>\n",
       "      <th>City</th>\n",
       "      <th>State</th>\n",
       "      <th>Meals Served</th>\n",
       "    </tr>\n",
       "    <tr>\n",
       "      <th>Rank</th>\n",
       "      <th></th>\n",
       "      <th></th>\n",
       "      <th></th>\n",
       "      <th></th>\n",
       "      <th></th>\n",
       "      <th></th>\n",
       "    </tr>\n",
       "  </thead>\n",
       "  <tbody>\n",
       "    <tr>\n",
       "      <th>1</th>\n",
       "      <td>Carmine's (Times Square)</td>\n",
       "      <td>39080335.0</td>\n",
       "      <td>40</td>\n",
       "      <td>New York</td>\n",
       "      <td>N.Y.</td>\n",
       "      <td>469803.0</td>\n",
       "    </tr>\n",
       "    <tr>\n",
       "      <th>2</th>\n",
       "      <td>The Boathouse Orlando</td>\n",
       "      <td>35218364.0</td>\n",
       "      <td>43</td>\n",
       "      <td>Orlando</td>\n",
       "      <td>Fla.</td>\n",
       "      <td>820819.0</td>\n",
       "    </tr>\n",
       "    <tr>\n",
       "      <th>3</th>\n",
       "      <td>Old Ebbitt Grill</td>\n",
       "      <td>29104017.0</td>\n",
       "      <td>33</td>\n",
       "      <td>Washington</td>\n",
       "      <td>D.C.</td>\n",
       "      <td>892830.0</td>\n",
       "    </tr>\n",
       "    <tr>\n",
       "      <th>4</th>\n",
       "      <td>LAVO Italian Restaurant &amp; Nightclub</td>\n",
       "      <td>26916180.0</td>\n",
       "      <td>90</td>\n",
       "      <td>New York</td>\n",
       "      <td>N.Y.</td>\n",
       "      <td>198500.0</td>\n",
       "    </tr>\n",
       "    <tr>\n",
       "      <th>5</th>\n",
       "      <td>Bryant Park Grill &amp; Cafe</td>\n",
       "      <td>26900000.0</td>\n",
       "      <td>62</td>\n",
       "      <td>New York</td>\n",
       "      <td>N.Y.</td>\n",
       "      <td>403000.0</td>\n",
       "    </tr>\n",
       "    <tr>\n",
       "      <th>...</th>\n",
       "      <td>...</td>\n",
       "      <td>...</td>\n",
       "      <td>...</td>\n",
       "      <td>...</td>\n",
       "      <td>...</td>\n",
       "      <td>...</td>\n",
       "    </tr>\n",
       "    <tr>\n",
       "      <th>96</th>\n",
       "      <td>George's at the Cove</td>\n",
       "      <td>12194000.0</td>\n",
       "      <td>80</td>\n",
       "      <td>La Jolla</td>\n",
       "      <td>Calif.</td>\n",
       "      <td>250000.0</td>\n",
       "    </tr>\n",
       "    <tr>\n",
       "      <th>97</th>\n",
       "      <td>Le Coucou</td>\n",
       "      <td>12187523.0</td>\n",
       "      <td>95</td>\n",
       "      <td>New York</td>\n",
       "      <td>N.Y.</td>\n",
       "      <td>87070.0</td>\n",
       "    </tr>\n",
       "    <tr>\n",
       "      <th>98</th>\n",
       "      <td>Mi Vida</td>\n",
       "      <td>12032014.0</td>\n",
       "      <td>38</td>\n",
       "      <td>Washington</td>\n",
       "      <td>D.C.</td>\n",
       "      <td>226226.0</td>\n",
       "    </tr>\n",
       "    <tr>\n",
       "      <th>99</th>\n",
       "      <td>Upland</td>\n",
       "      <td>11965564.0</td>\n",
       "      <td>52</td>\n",
       "      <td>New York</td>\n",
       "      <td>N.Y.</td>\n",
       "      <td>171825.0</td>\n",
       "    </tr>\n",
       "    <tr>\n",
       "      <th>100</th>\n",
       "      <td>Virgil's Real Barbecue</td>\n",
       "      <td>11391678.0</td>\n",
       "      <td>27</td>\n",
       "      <td>Las Vegas</td>\n",
       "      <td>Nev.</td>\n",
       "      <td>208276.0</td>\n",
       "    </tr>\n",
       "  </tbody>\n",
       "</table>\n",
       "<p>100 rows × 6 columns</p>\n",
       "</div>"
      ],
      "text/plain": [
       "                               Restaurant       Sales  Average Check  \\\n",
       "Rank                                                                   \n",
       "1                Carmine's (Times Square)  39080335.0             40   \n",
       "2                   The Boathouse Orlando  35218364.0             43   \n",
       "3                        Old Ebbitt Grill  29104017.0             33   \n",
       "4     LAVO Italian Restaurant & Nightclub  26916180.0             90   \n",
       "5                Bryant Park Grill & Cafe  26900000.0             62   \n",
       "...                                   ...         ...            ...   \n",
       "96                   George's at the Cove  12194000.0             80   \n",
       "97                              Le Coucou  12187523.0             95   \n",
       "98                                Mi Vida  12032014.0             38   \n",
       "99                                 Upland  11965564.0             52   \n",
       "100                Virgil's Real Barbecue  11391678.0             27   \n",
       "\n",
       "            City   State  Meals Served  \n",
       "Rank                                    \n",
       "1       New York    N.Y.      469803.0  \n",
       "2       Orlando     Fla.      820819.0  \n",
       "3     Washington    D.C.      892830.0  \n",
       "4       New York    N.Y.      198500.0  \n",
       "5       New York    N.Y.      403000.0  \n",
       "...          ...     ...           ...  \n",
       "96      La Jolla  Calif.      250000.0  \n",
       "97      New York    N.Y.       87070.0  \n",
       "98    Washington    D.C.      226226.0  \n",
       "99      New York    N.Y.      171825.0  \n",
       "100    Las Vegas    Nev.      208276.0  \n",
       "\n",
       "[100 rows x 6 columns]"
      ]
     },
     "execution_count": 39,
     "metadata": {},
     "output_type": "execute_result"
    }
   ],
   "source": [
    "df = pd.read_csv('Restaurant-Dataset/Independence100.csv',index_col=0)\n",
    "df"
   ]
  },
  {
   "cell_type": "code",
   "execution_count": 18,
   "metadata": {},
   "outputs": [
    {
     "data": {
      "text/plain": [
       "Restaurant        object\n",
       "Sales            float64\n",
       "Average Check      int64\n",
       "City              object\n",
       "State             object\n",
       "Meals Served     float64\n",
       "dtype: object"
      ]
     },
     "execution_count": 18,
     "metadata": {},
     "output_type": "execute_result"
    }
   ],
   "source": [
    "df.dtypes"
   ]
  },
  {
   "cell_type": "code",
   "execution_count": 20,
   "metadata": {},
   "outputs": [],
   "source": [
    "#COLUMNA  ---> Sales"
   ]
  },
  {
   "cell_type": "code",
   "execution_count": 5,
   "metadata": {},
   "outputs": [
    {
     "data": {
      "image/png": "[encoded data removed]",
      "text/plain": [
       "<Figure size 432x288 with 1 Axes>"
      ]
     },
     "metadata": {},
     "output_type": "display_data"
    }
   ],
   "source": [
    "#Analisis de la informacion usando box plots\n",
    "#Analisamos la columna de Sales\n",
    "sns.set_style(\"whitegrid\") # Establece el estilo de la gráfica (https://seaborn.pydata.org/tutorial/aesthetics.html)\n",
    "sns.boxplot(x=df['Sales']);"
   ]
  },
  {
   "cell_type": "code",
   "execution_count": 9,
   "metadata": {},
   "outputs": [],
   "source": [
    "#Ahora sabemos que la mayoría de nuestros datos están concentrados en valores menores a 2.7 y que las ventas muy altas son anomalías en nuestro conjunto.\n",
    "#Dentro del rango total de los datos, tenemos una distribución que tiende hacia los valores más pequeños.\n",
    "#También sabemos que nuestros datos en general están muy concentrados (o sea, poco dispersos), pero que hay una \"colita\" de datos hacia la derecha que se extiende un poco"
   ]
  },
  {
   "cell_type": "code",
   "execution_count": 6,
   "metadata": {},
   "outputs": [
    {
     "data": {
      "image/png": "[encoded data removed]",
      "text/plain": [
       "<Figure size 432x288 with 1 Axes>"
      ]
     },
     "metadata": {},
     "output_type": "display_data"
    }
   ],
   "source": [
    "sns.set(style=\"whitegrid\")\n",
    "sns.boxplot(x=df['Sales'])\n",
    "plt.axvline(df['Sales'].mean(), c='y'); # (valor de la línea, color)\n",
    "#En la siguiente grafica visualizamos el valor del  promedio en amarillo y vemos que esta muy cerca al percentil 50"
   ]
  },
  {
   "cell_type": "code",
   "execution_count": 10,
   "metadata": {},
   "outputs": [],
   "source": [
    "iqr = df['Sales'].quantile(0.75) - df['Sales'].quantile(0.25)\n",
    "filtro_inferior = df['Sales'] > df['Sales'].quantile(0.25) - (iqr * 1.5)\n",
    "filtro_superior = df['Sales'] < df['Sales'].quantile(0.75) + (iqr * 1.5)\n",
    "\n",
    "df_filtrado = df[filtro_inferior & filtro_superior]"
   ]
  },
  {
   "cell_type": "code",
   "execution_count": 11,
   "metadata": {},
   "outputs": [
    {
     "data": {
      "image/png": "[encoded data removed]",
      "text/plain": [
       "<Figure size 432x288 with 1 Axes>"
      ]
     },
     "metadata": {},
     "output_type": "display_data"
    }
   ],
   "source": [
    "sns.boxplot(x=df_filtrado['Sales']);\n",
    "#Filtrado los vaores atipicos vemos que ya todos los datos quedan dentro de los valores"
   ]
  },
  {
   "cell_type": "code",
   "execution_count": 19,
   "metadata": {},
   "outputs": [],
   "source": [
    "#COLUMNA  ---> Average Check"
   ]
  },
  {
   "cell_type": "code",
   "execution_count": 15,
   "metadata": {},
   "outputs": [
    {
     "data": {
      "image/png": "[encoded data removed]",
      "text/plain": [
       "<Figure size 432x288 with 1 Axes>"
      ]
     },
     "metadata": {},
     "output_type": "display_data"
    }
   ],
   "source": [
    "#Analisamos la columna de Average Check\n",
    "#Ahora sabemos que la mayoría de nuestros datos están concentrados en valores menores a 175 y que hay pocas anomalias\n",
    "sns.set_style(\"whitegrid\") # Establece el estilo de la gráfica (https://seaborn.pydata.org/tutorial/aesthetics.html)\n",
    "sns.boxplot(x=df['Average Check']);"
   ]
  },
  {
   "cell_type": "code",
   "execution_count": 17,
   "metadata": {},
   "outputs": [
    {
     "data": {
      "image/png": "[encoded data removed]",
      "text/plain": [
       "<Figure size 432x288 with 1 Axes>"
      ]
     },
     "metadata": {},
     "output_type": "display_data"
    }
   ],
   "source": [
    "sns.set(style=\"whitegrid\")\n",
    "sns.boxplot(x=df['Average Check'])\n",
    "plt.axvline(df['Average Check'].mean(), c='y'); # (valor de la línea, color)\n",
    "#En la siguiente grafica visualizamos el valor del  promedio en amarillo y vemos que esta muy cerca al percentil 50"
   ]
  },
  {
   "cell_type": "code",
   "execution_count": 16,
   "metadata": {},
   "outputs": [
    {
     "data": {
      "image/png": "[encoded data removed]",
      "text/plain": [
       "<Figure size 432x288 with 1 Axes>"
      ]
     },
     "metadata": {},
     "output_type": "display_data"
    }
   ],
   "source": [
    "iqr = df['Average Check'].quantile(0.75) - df['Average Check'].quantile(0.25)\n",
    "filtro_inferior = df['Average Check'] > df['Average Check'].quantile(0.25) - (iqr * 1.5)\n",
    "filtro_superior = df['Average Check'] < df['Average Check'].quantile(0.75) + (iqr * 1.5)\n",
    "\n",
    "df_filtrado = df[filtro_inferior & filtro_superior]\n",
    "sns.boxplot(x=df_filtrado['Average Check']);\n",
    "#Rango Intercuartílico quito el valor anomalo"
   ]
  },
  {
   "cell_type": "code",
   "execution_count": 21,
   "metadata": {},
   "outputs": [],
   "source": [
    "#COLUMNA  ---> Sales"
   ]
  },
  {
   "cell_type": "code",
   "execution_count": 22,
   "metadata": {},
   "outputs": [
    {
     "data": {
      "image/png": "[encoded data removed]",
      "text/plain": [
       "<Figure size 432x288 with 1 Axes>"
      ]
     },
     "metadata": {},
     "output_type": "display_data"
    }
   ],
   "source": [
    "sns.set_style(\"whitegrid\") # Establece el estilo de la gráfica (https://seaborn.pydata.org/tutorial/aesthetics.html)\n",
    "sns.boxplot(x=df['Meals Served']);"
   ]
  },
  {
   "cell_type": "code",
   "execution_count": 23,
   "metadata": {},
   "outputs": [
    {
     "data": {
      "image/png": "[encoded data removed]",
      "text/plain": [
       "<Figure size 432x288 with 1 Axes>"
      ]
     },
     "metadata": {},
     "output_type": "display_data"
    }
   ],
   "source": [
    "sns.set(style=\"whitegrid\")\n",
    "sns.boxplot(x=df['Meals Served'])\n",
    "plt.axvline(df['Meals Served'].mean(), c='y'); # (valor de la línea, color)"
   ]
  },
  {
   "cell_type": "code",
   "execution_count": 26,
   "metadata": {},
   "outputs": [
    {
     "data": {
      "image/png": "[encoded data removed]",
      "text/plain": [
       "<Figure size 432x288 with 1 Axes>"
      ]
     },
     "metadata": {},
     "output_type": "display_data"
    }
   ],
   "source": [
    "iqr = df['Meals Served'].quantile(0.75) - df['Meals Served'].quantile(0.25)\n",
    "filtro_inferior = df['Meals Served'] > df['Meals Served'].quantile(0.25) - (iqr * 1.5)\n",
    "filtro_superior = df['Meals Served'] < df['Meals Served'].quantile(0.75) + (iqr * 1.5)\n",
    "\n",
    "df_filtrado = df[filtro_inferior & filtro_superior]\n",
    "sns.boxplot(x=df_filtrado['Meals Served']);\n",
    "\n",
    "#Siguen quedando unos cuantos valores anomalos"
   ]
  },
  {
   "cell_type": "code",
   "execution_count": 32,
   "metadata": {},
   "outputs": [
    {
     "data": {
      "text/plain": [
       "Meals Served\n",
       "(86198.044, 174265.6]    18\n",
       "(174265.6, 261461.2]     33\n",
       "(261461.2, 348656.8]     19\n",
       "(348656.8, 435852.4]     12\n",
       "(435852.4, 523048.0]      6\n",
       "(523048.0, 610243.6]      2\n",
       "(610243.6, 697439.2]      3\n",
       "(697439.2, 784634.8]      1\n",
       "(784634.8, 871830.4]      2\n",
       "(871830.4, 959026.0]      4\n",
       "Name: Meals Served, dtype: int64"
      ]
     },
     "execution_count": 32,
     "metadata": {},
     "output_type": "execute_result"
    }
   ],
   "source": [
    "#TABLA DE FRECUENCIAS PARA Meals Served\n",
    "#------------------------------------------------------\n",
    "#Como la tabla columna tiene muchas anomalias obtendremos la tabla de frecuencia para ver como se distribuyen las anomalias por tango\n",
    "meals = df['Meals Served']\n",
    "meals.max() - meals.min() #rango\n",
    "segmentos = pd.cut(meals, 10)\n",
    "\n",
    "#Agrupamos por los segmentos y contamos cuantos registros caen en ese segmento o rango\n",
    "df['Meals Served'].groupby(segmentos).count() # SELECT price,  count(*) FROM df GROUP BY price\n"
   ]
  },
  {
   "cell_type": "code",
   "execution_count": 33,
   "metadata": {},
   "outputs": [],
   "source": [
    "#HISTOGRAMAS (Sales, Average Check, Meals Served )"
   ]
  },
  {
   "cell_type": "code",
   "execution_count": 35,
   "metadata": {},
   "outputs": [
    {
     "data": {
      "image/png": "[encoded data removed]",
      "text/plain": [
       "<Figure size 432x288 with 1 Axes>"
      ]
     },
     "metadata": {},
     "output_type": "display_data"
    }
   ],
   "source": [
    "sns.set_style('white')\n",
    "sns.distplot(df['Sales'], kde=False, bins=20);\n",
    "#LOS DATOS ESTAN MUY CARGADOS A LA IZQUIERDA"
   ]
  },
  {
   "cell_type": "code",
   "execution_count": 36,
   "metadata": {},
   "outputs": [
    {
     "data": {
      "image/png": "[encoded data removed]",
      "text/plain": [
       "<Figure size 432x288 with 1 Axes>"
      ]
     },
     "metadata": {},
     "output_type": "display_data"
    }
   ],
   "source": [
    "sns.set_style('white')\n",
    "sns.distplot(df['Average Check'], kde=False, bins=20);\n",
    "#LOS DATOS ESTAN MUY CARGADOS A LA IZQUIERDA"
   ]
  },
  {
   "cell_type": "code",
   "execution_count": 37,
   "metadata": {},
   "outputs": [
    {
     "data": {
      "image/png": "[encoded data removed]",
      "text/plain": [
       "<Figure size 432x288 with 1 Axes>"
      ]
     },
     "metadata": {},
     "output_type": "display_data"
    }
   ],
   "source": [
    "sns.set_style('white')\n",
    "sns.distplot(df['Meals Served'], kde=False, bins=20);\n",
    "#LOS DATOS ESTAN MUY CARGADOS A LA IZQUIERDA"
   ]
  },
  {
   "cell_type": "code",
   "execution_count": null,
   "metadata": {},
   "outputs": [],
   "source": []
  }
 ],
 "metadata": {
  "kernelspec": {
   "display_name": "Python 3",
   "language": "python",
   "name": "python3"
  },
  "language_info": {
   "codemirror_mode": {
    "name": "ipython",
    "version": 3
   },
   "file_extension": ".py",
   "mimetype": "text/x-python",
   "name": "python",
   "nbconvert_exporter": "python",
   "pygments_lexer": "ipython3",
   "version": "3.7.6"
  }
 },
 "nbformat": 4,
 "nbformat_minor": 4
}

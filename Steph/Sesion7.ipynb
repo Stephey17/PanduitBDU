{
 "cells": [
  {
   "cell_type": "code",
   "execution_count": 66,
   "metadata": {},
   "outputs": [],
   "source": [
    "import pandas as pd\n",
    "import seaborn as sns\n",
    "import matplotlib.pyplot as plt"
   ]
  },
  {
   "cell_type": "code",
   "execution_count": 69,
   "metadata": {},
   "outputs": [
    {
     "data": {
      "text/html": [
       "<div>\n",
       "<style scoped>\n",
       "    .dataframe tbody tr th:only-of-type {\n",
       "        vertical-align: middle;\n",
       "    }\n",
       "\n",
       "    .dataframe tbody tr th {\n",
       "        vertical-align: top;\n",
       "    }\n",
       "\n",
       "    .dataframe thead th {\n",
       "        text-align: right;\n",
       "    }\n",
       "</style>\n",
       "<table border=\"1\" class=\"dataframe\">\n",
       "  <thead>\n",
       "    <tr style=\"text-align: right;\">\n",
       "      <th></th>\n",
       "      <th>Restaurant</th>\n",
       "      <th>Sales</th>\n",
       "      <th>Average Check</th>\n",
       "      <th>City</th>\n",
       "      <th>State</th>\n",
       "      <th>Meals Served</th>\n",
       "      <th>latitud</th>\n",
       "      <th>longitud</th>\n",
       "    </tr>\n",
       "    <tr>\n",
       "      <th>Rank</th>\n",
       "      <th></th>\n",
       "      <th></th>\n",
       "      <th></th>\n",
       "      <th></th>\n",
       "      <th></th>\n",
       "      <th></th>\n",
       "      <th></th>\n",
       "      <th></th>\n",
       "    </tr>\n",
       "  </thead>\n",
       "  <tbody>\n",
       "    <tr>\n",
       "      <th>1</th>\n",
       "      <td>Carmine's (Times Square)</td>\n",
       "      <td>39080335.0</td>\n",
       "      <td>40</td>\n",
       "      <td>New York</td>\n",
       "      <td>N.Y.</td>\n",
       "      <td>469803.0</td>\n",
       "      <td>40.71427</td>\n",
       "      <td>-74.00597</td>\n",
       "    </tr>\n",
       "    <tr>\n",
       "      <th>2</th>\n",
       "      <td>The Boathouse Orlando</td>\n",
       "      <td>35218364.0</td>\n",
       "      <td>43</td>\n",
       "      <td>Orlando</td>\n",
       "      <td>Fla.</td>\n",
       "      <td>820819.0</td>\n",
       "      <td>28.53834</td>\n",
       "      <td>-81.37924</td>\n",
       "    </tr>\n",
       "    <tr>\n",
       "      <th>3</th>\n",
       "      <td>Old Ebbitt Grill</td>\n",
       "      <td>29104017.0</td>\n",
       "      <td>33</td>\n",
       "      <td>Washington</td>\n",
       "      <td>D.C.</td>\n",
       "      <td>892830.0</td>\n",
       "      <td>38.89511</td>\n",
       "      <td>-77.03637</td>\n",
       "    </tr>\n",
       "    <tr>\n",
       "      <th>4</th>\n",
       "      <td>LAVO Italian Restaurant &amp; Nightclub</td>\n",
       "      <td>26916180.0</td>\n",
       "      <td>90</td>\n",
       "      <td>New York</td>\n",
       "      <td>N.Y.</td>\n",
       "      <td>198500.0</td>\n",
       "      <td>40.71427</td>\n",
       "      <td>-74.00597</td>\n",
       "    </tr>\n",
       "    <tr>\n",
       "      <th>5</th>\n",
       "      <td>Bryant Park Grill &amp; Cafe</td>\n",
       "      <td>26900000.0</td>\n",
       "      <td>62</td>\n",
       "      <td>New York</td>\n",
       "      <td>N.Y.</td>\n",
       "      <td>403000.0</td>\n",
       "      <td>40.71427</td>\n",
       "      <td>-74.00597</td>\n",
       "    </tr>\n",
       "    <tr>\n",
       "      <th>...</th>\n",
       "      <td>...</td>\n",
       "      <td>...</td>\n",
       "      <td>...</td>\n",
       "      <td>...</td>\n",
       "      <td>...</td>\n",
       "      <td>...</td>\n",
       "      <td>...</td>\n",
       "      <td>...</td>\n",
       "    </tr>\n",
       "    <tr>\n",
       "      <th>96</th>\n",
       "      <td>George's at the Cove</td>\n",
       "      <td>12194000.0</td>\n",
       "      <td>80</td>\n",
       "      <td>La Jolla</td>\n",
       "      <td>Calif.</td>\n",
       "      <td>250000.0</td>\n",
       "      <td>32.84727</td>\n",
       "      <td>-117.27420</td>\n",
       "    </tr>\n",
       "    <tr>\n",
       "      <th>97</th>\n",
       "      <td>Le Coucou</td>\n",
       "      <td>12187523.0</td>\n",
       "      <td>95</td>\n",
       "      <td>New York</td>\n",
       "      <td>N.Y.</td>\n",
       "      <td>87070.0</td>\n",
       "      <td>40.71427</td>\n",
       "      <td>-74.00597</td>\n",
       "    </tr>\n",
       "    <tr>\n",
       "      <th>98</th>\n",
       "      <td>Mi Vida</td>\n",
       "      <td>12032014.0</td>\n",
       "      <td>38</td>\n",
       "      <td>Washington</td>\n",
       "      <td>D.C.</td>\n",
       "      <td>226226.0</td>\n",
       "      <td>38.89511</td>\n",
       "      <td>-77.03637</td>\n",
       "    </tr>\n",
       "    <tr>\n",
       "      <th>99</th>\n",
       "      <td>Upland</td>\n",
       "      <td>11965564.0</td>\n",
       "      <td>52</td>\n",
       "      <td>New York</td>\n",
       "      <td>N.Y.</td>\n",
       "      <td>171825.0</td>\n",
       "      <td>40.71427</td>\n",
       "      <td>-74.00597</td>\n",
       "    </tr>\n",
       "    <tr>\n",
       "      <th>100</th>\n",
       "      <td>Virgil's Real Barbecue</td>\n",
       "      <td>11391678.0</td>\n",
       "      <td>27</td>\n",
       "      <td>Las Vegas</td>\n",
       "      <td>Nev.</td>\n",
       "      <td>208276.0</td>\n",
       "      <td>36.17497</td>\n",
       "      <td>-115.13722</td>\n",
       "    </tr>\n",
       "  </tbody>\n",
       "</table>\n",
       "<p>100 rows × 8 columns</p>\n",
       "</div>"
      ],
      "text/plain": [
       "                               Restaurant       Sales  Average Check  \\\n",
       "Rank                                                                   \n",
       "1                Carmine's (Times Square)  39080335.0             40   \n",
       "2                   The Boathouse Orlando  35218364.0             43   \n",
       "3                        Old Ebbitt Grill  29104017.0             33   \n",
       "4     LAVO Italian Restaurant & Nightclub  26916180.0             90   \n",
       "5                Bryant Park Grill & Cafe  26900000.0             62   \n",
       "...                                   ...         ...            ...   \n",
       "96                   George's at the Cove  12194000.0             80   \n",
       "97                              Le Coucou  12187523.0             95   \n",
       "98                                Mi Vida  12032014.0             38   \n",
       "99                                 Upland  11965564.0             52   \n",
       "100                Virgil's Real Barbecue  11391678.0             27   \n",
       "\n",
       "            City   State  Meals Served   latitud   longitud  \n",
       "Rank                                                         \n",
       "1       New York    N.Y.      469803.0  40.71427  -74.00597  \n",
       "2       Orlando     Fla.      820819.0  28.53834  -81.37924  \n",
       "3     Washington    D.C.      892830.0  38.89511  -77.03637  \n",
       "4       New York    N.Y.      198500.0  40.71427  -74.00597  \n",
       "5       New York    N.Y.      403000.0  40.71427  -74.00597  \n",
       "...          ...     ...           ...       ...        ...  \n",
       "96      La Jolla  Calif.      250000.0  32.84727 -117.27420  \n",
       "97      New York    N.Y.       87070.0  40.71427  -74.00597  \n",
       "98    Washington    D.C.      226226.0  38.89511  -77.03637  \n",
       "99      New York    N.Y.      171825.0  40.71427  -74.00597  \n",
       "100    Las Vegas    Nev.      208276.0  36.17497 -115.13722  \n",
       "\n",
       "[100 rows x 8 columns]"
      ]
     },
     "execution_count": 69,
     "metadata": {},
     "output_type": "execute_result"
    }
   ],
   "source": [
    "df = pd.read_csv('../Restaurant-Dataset/Independence100-latitud-longitud.csv',index_col=0)\n",
    "df"
   ]
  },
  {
   "cell_type": "code",
   "execution_count": 80,
   "metadata": {},
   "outputs": [
    {
     "data": {
      "text/plain": [
       "State\n",
       "Calif.    12\n",
       "Colo.      1\n",
       "D.C.       9\n",
       "Fla.       9\n",
       "Fla.       1\n",
       "Ga.        2\n",
       "Ill.      18\n",
       "Ind.       2\n",
       "Mass.      1\n",
       "Mich.      2\n",
       "N.C.       1\n",
       "N.J.       2\n",
       "N.Y.      21\n",
       "Nev.      11\n",
       "Ore.       1\n",
       "Pa.        1\n",
       "Tenn.      2\n",
       "Texas      3\n",
       "Va.        1\n",
       "dtype: int64"
      ]
     },
     "execution_count": 80,
     "metadata": {},
     "output_type": "execute_result"
    }
   ],
   "source": [
    "df.groupby(\"State\").size()"
   ]
  },
  {
   "cell_type": "code",
   "execution_count": 81,
   "metadata": {},
   "outputs": [
    {
     "data": {
      "text/plain": [
       "City\n",
       "Amarillo            1\n",
       "Atlanta             2\n",
       "Atlantic City       1\n",
       "Austin              1\n",
       "Bal Harbour         1\n",
       "Boston              1\n",
       "Burbank             1\n",
       "Cape May            1\n",
       "Chicago            15\n",
       "Coalinga            1\n",
       "Daly City           1\n",
       "Denver              1\n",
       "Fort Lauderdale     1\n",
       "Frankenmuth         2\n",
       "Ft. Lauderdale      2\n",
       "Houston             1\n",
       "Indianapolis        2\n",
       "La Jolla            1\n",
       "Las Vegas          11\n",
       "Los Angeles         1\n",
       "Malibu              1\n",
       "McLean              1\n",
       "Miami               3\n",
       "Miami Beach         1\n",
       "Nashville           2\n",
       "New York           21\n",
       "Oak Brook           1\n",
       "Orlando             2\n",
       "Philadelphia        1\n",
       "Portland            1\n",
       "Raleigh             1\n",
       "Rosemont            1\n",
       "San Francisco       5\n",
       "Washington          9\n",
       "West Hollywood      1\n",
       "Wheeling            1\n",
       "dtype: int64"
      ]
     },
     "execution_count": 81,
     "metadata": {},
     "output_type": "execute_result"
    }
   ],
   "source": [
    "df.groupby(\"City\").size()"
   ]
  },
  {
   "cell_type": "code",
   "execution_count": 61,
   "metadata": {},
   "outputs": [
    {
     "data": {
      "text/html": [
       "<div>\n",
       "<style scoped>\n",
       "    .dataframe tbody tr th:only-of-type {\n",
       "        vertical-align: middle;\n",
       "    }\n",
       "\n",
       "    .dataframe tbody tr th {\n",
       "        vertical-align: top;\n",
       "    }\n",
       "\n",
       "    .dataframe thead th {\n",
       "        text-align: right;\n",
       "    }\n",
       "</style>\n",
       "<table border=\"1\" class=\"dataframe\">\n",
       "  <thead>\n",
       "    <tr style=\"text-align: right;\">\n",
       "      <th></th>\n",
       "      <th>Restaurant</th>\n",
       "      <th>Sales</th>\n",
       "      <th>Average Check</th>\n",
       "      <th>City</th>\n",
       "      <th>State</th>\n",
       "      <th>Meals Served</th>\n",
       "      <th>latitud</th>\n",
       "      <th>longitud</th>\n",
       "    </tr>\n",
       "    <tr>\n",
       "      <th>Rank</th>\n",
       "      <th></th>\n",
       "      <th></th>\n",
       "      <th></th>\n",
       "      <th></th>\n",
       "      <th></th>\n",
       "      <th></th>\n",
       "      <th></th>\n",
       "      <th></th>\n",
       "    </tr>\n",
       "  </thead>\n",
       "  <tbody>\n",
       "    <tr>\n",
       "      <th>1</th>\n",
       "      <td>Carmine's (Times Square)</td>\n",
       "      <td>39080335.0</td>\n",
       "      <td>40</td>\n",
       "      <td>New York</td>\n",
       "      <td>Calif.</td>\n",
       "      <td>469803.0</td>\n",
       "      <td>40.71427</td>\n",
       "      <td>-74.00597</td>\n",
       "    </tr>\n",
       "    <tr>\n",
       "      <th>2</th>\n",
       "      <td>The Boathouse Orlando</td>\n",
       "      <td>35218364.0</td>\n",
       "      <td>43</td>\n",
       "      <td>Orlando</td>\n",
       "      <td>Calif.</td>\n",
       "      <td>820819.0</td>\n",
       "      <td>28.53834</td>\n",
       "      <td>-81.37924</td>\n",
       "    </tr>\n",
       "    <tr>\n",
       "      <th>3</th>\n",
       "      <td>Old Ebbitt Grill</td>\n",
       "      <td>29104017.0</td>\n",
       "      <td>33</td>\n",
       "      <td>Washington</td>\n",
       "      <td>Calif.</td>\n",
       "      <td>892830.0</td>\n",
       "      <td>38.89511</td>\n",
       "      <td>-77.03637</td>\n",
       "    </tr>\n",
       "    <tr>\n",
       "      <th>4</th>\n",
       "      <td>LAVO Italian Restaurant &amp; Nightclub</td>\n",
       "      <td>26916180.0</td>\n",
       "      <td>90</td>\n",
       "      <td>New York</td>\n",
       "      <td>Calif.</td>\n",
       "      <td>198500.0</td>\n",
       "      <td>40.71427</td>\n",
       "      <td>-74.00597</td>\n",
       "    </tr>\n",
       "    <tr>\n",
       "      <th>5</th>\n",
       "      <td>Bryant Park Grill &amp; Cafe</td>\n",
       "      <td>26900000.0</td>\n",
       "      <td>62</td>\n",
       "      <td>New York</td>\n",
       "      <td>Calif.</td>\n",
       "      <td>403000.0</td>\n",
       "      <td>40.71427</td>\n",
       "      <td>-74.00597</td>\n",
       "    </tr>\n",
       "    <tr>\n",
       "      <th>...</th>\n",
       "      <td>...</td>\n",
       "      <td>...</td>\n",
       "      <td>...</td>\n",
       "      <td>...</td>\n",
       "      <td>...</td>\n",
       "      <td>...</td>\n",
       "      <td>...</td>\n",
       "      <td>...</td>\n",
       "    </tr>\n",
       "    <tr>\n",
       "      <th>96</th>\n",
       "      <td>George's at the Cove</td>\n",
       "      <td>12194000.0</td>\n",
       "      <td>80</td>\n",
       "      <td>La Jolla</td>\n",
       "      <td>Calif.</td>\n",
       "      <td>250000.0</td>\n",
       "      <td>32.84727</td>\n",
       "      <td>-117.27420</td>\n",
       "    </tr>\n",
       "    <tr>\n",
       "      <th>97</th>\n",
       "      <td>Le Coucou</td>\n",
       "      <td>12187523.0</td>\n",
       "      <td>95</td>\n",
       "      <td>New York</td>\n",
       "      <td>Calif.</td>\n",
       "      <td>87070.0</td>\n",
       "      <td>40.71427</td>\n",
       "      <td>-74.00597</td>\n",
       "    </tr>\n",
       "    <tr>\n",
       "      <th>98</th>\n",
       "      <td>Mi Vida</td>\n",
       "      <td>12032014.0</td>\n",
       "      <td>38</td>\n",
       "      <td>Washington</td>\n",
       "      <td>Calif.</td>\n",
       "      <td>226226.0</td>\n",
       "      <td>38.89511</td>\n",
       "      <td>-77.03637</td>\n",
       "    </tr>\n",
       "    <tr>\n",
       "      <th>99</th>\n",
       "      <td>Upland</td>\n",
       "      <td>11965564.0</td>\n",
       "      <td>52</td>\n",
       "      <td>New York</td>\n",
       "      <td>Calif.</td>\n",
       "      <td>171825.0</td>\n",
       "      <td>40.71427</td>\n",
       "      <td>-74.00597</td>\n",
       "    </tr>\n",
       "    <tr>\n",
       "      <th>100</th>\n",
       "      <td>Virgil's Real Barbecue</td>\n",
       "      <td>11391678.0</td>\n",
       "      <td>27</td>\n",
       "      <td>Las Vegas</td>\n",
       "      <td>Calif.</td>\n",
       "      <td>208276.0</td>\n",
       "      <td>36.17497</td>\n",
       "      <td>-115.13722</td>\n",
       "    </tr>\n",
       "  </tbody>\n",
       "</table>\n",
       "<p>100 rows × 8 columns</p>\n",
       "</div>"
      ],
      "text/plain": [
       "                               Restaurant       Sales  Average Check  \\\n",
       "Rank                                                                   \n",
       "1                Carmine's (Times Square)  39080335.0             40   \n",
       "2                   The Boathouse Orlando  35218364.0             43   \n",
       "3                        Old Ebbitt Grill  29104017.0             33   \n",
       "4     LAVO Italian Restaurant & Nightclub  26916180.0             90   \n",
       "5                Bryant Park Grill & Cafe  26900000.0             62   \n",
       "...                                   ...         ...            ...   \n",
       "96                   George's at the Cove  12194000.0             80   \n",
       "97                              Le Coucou  12187523.0             95   \n",
       "98                                Mi Vida  12032014.0             38   \n",
       "99                                 Upland  11965564.0             52   \n",
       "100                Virgil's Real Barbecue  11391678.0             27   \n",
       "\n",
       "            City   State  Meals Served   latitud   longitud  \n",
       "Rank                                                         \n",
       "1       New York  Calif.      469803.0  40.71427  -74.00597  \n",
       "2       Orlando   Calif.      820819.0  28.53834  -81.37924  \n",
       "3     Washington  Calif.      892830.0  38.89511  -77.03637  \n",
       "4       New York  Calif.      198500.0  40.71427  -74.00597  \n",
       "5       New York  Calif.      403000.0  40.71427  -74.00597  \n",
       "...          ...     ...           ...       ...        ...  \n",
       "96      La Jolla  Calif.      250000.0  32.84727 -117.27420  \n",
       "97      New York  Calif.       87070.0  40.71427  -74.00597  \n",
       "98    Washington  Calif.      226226.0  38.89511  -77.03637  \n",
       "99      New York  Calif.      171825.0  40.71427  -74.00597  \n",
       "100    Las Vegas  Calif.      208276.0  36.17497 -115.13722  \n",
       "\n",
       "[100 rows x 8 columns]"
      ]
     },
     "execution_count": 61,
     "metadata": {},
     "output_type": "execute_result"
    }
   ],
   "source": [
    "filtro =df['State'].str.startswith('Calif.')\n",
    "dffilter=df[filtro]\n",
    "dffilter"
   ]
  },
  {
   "cell_type": "code",
   "execution_count": 62,
   "metadata": {},
   "outputs": [
    {
     "data": {
      "image/png": "[encoded data removed]",
      "text/plain": [
       "<Figure size 432x288 with 1 Axes>"
      ]
     },
     "metadata": {
      "needs_background": "light"
     },
     "output_type": "display_data"
    }
   ],
   "source": [
    "fig = plt.figure()\n",
    "ax = fig.add_subplot()\n",
    "\n",
    "ax.set_title('Ubicacion de Restaurantes Top 100', pad=15)\n",
    "ax.set_xlabel('latitud')\n",
    "ax.set_ylabel('longitud')\n",
    "\n",
    "sns.scatterplot(dffilter['latitud'], dffilter['longitud'], ax=ax);"
   ]
  },
  {
   "cell_type": "code",
   "execution_count": 11,
   "metadata": {},
   "outputs": [],
   "source": [
    "from sklearn.cluster import KMeans"
   ]
  },
  {
   "cell_type": "code",
   "execution_count": 52,
   "metadata": {},
   "outputs": [],
   "source": [
    "k_means_3 = KMeans(n_clusters=5, max_iter=10000)"
   ]
  },
  {
   "cell_type": "code",
   "execution_count": 53,
   "metadata": {},
   "outputs": [
    {
     "data": {
      "text/plain": [
       "KMeans(algorithm='auto', copy_x=True, init='k-means++', max_iter=10000,\n",
       "       n_clusters=5, n_init=10, n_jobs=None, precompute_distances='auto',\n",
       "       random_state=None, tol=0.0001, verbose=0)"
      ]
     },
     "execution_count": 53,
     "metadata": {},
     "output_type": "execute_result"
    }
   ],
   "source": [
    "k_means_3.fit(df[['latitud', 'longitud']])"
   ]
  },
  {
   "cell_type": "code",
   "execution_count": 54,
   "metadata": {},
   "outputs": [
    {
     "data": {
      "text/plain": [
       "array([[  27.66223583,  -81.06688333],\n",
       "       [  36.47997542, -118.10843167],\n",
       "       [  40.13391895,  -74.76160421],\n",
       "       [  41.81445   ,  -87.19478591],\n",
       "       [  33.747895  ,  -99.9805825 ]])"
      ]
     },
     "execution_count": 54,
     "metadata": {},
     "output_type": "execute_result"
    }
   ],
   "source": [
    "centers = k_means_3.cluster_centers_\n",
    "\n",
    "centers"
   ]
  },
  {
   "cell_type": "code",
   "execution_count": 27,
   "metadata": {},
   "outputs": [
    {
     "data": {
      "image/png": "[encoded data removed]",
      "text/plain": [
       "<Figure size 432x288 with 1 Axes>"
      ]
     },
     "metadata": {
      "needs_background": "light"
     },
     "output_type": "display_data"
    }
   ],
   "source": [
    "fig = plt.figure()\n",
    "ax = fig.add_subplot()\n",
    "\n",
    "ax.set_title('Ubicacion de Restaurantes Top 100', pad=5)\n",
    "ax.set_xlabel('latitud')\n",
    "ax.set_ylabel('longitud')\n",
    "\n",
    "#palette rainbow, da un color para cada region\n",
    "#s= tamaño de los puntos\n",
    "#los negros son los centroides .... los puntos negros\n",
    "#en esto nos dice cuales son los puntos donde podemos crear centros de vigilancia se ubican\n",
    "#tomando puntos que abarquen mas valores\n",
    "sns.scatterplot(df['latitud'], df['longitud'], ax=ax, palette='rainbow');\n",
    "sns.scatterplot(centers[:,0], centers[:,1], ax=ax, s=100, color='black');"
   ]
  },
  {
   "cell_type": "code",
   "execution_count": 28,
   "metadata": {},
   "outputs": [],
   "source": [
    "clasificaciones = k_means.predict(df[['latitud', 'longitud']])"
   ]
  },
  {
   "cell_type": "code",
   "execution_count": 29,
   "metadata": {},
   "outputs": [
    {
     "data": {
      "image/png": "[encoded data removed]",
      "text/plain": [
       "<Figure size 432x288 with 1 Axes>"
      ]
     },
     "metadata": {
      "needs_background": "light"
     },
     "output_type": "display_data"
    }
   ],
   "source": [
    "fig = plt.figure()\n",
    "ax = fig.add_subplot()\n",
    "\n",
    "ax.set_title('Ubicacion de Restaurantes Top 100', pad=5)\n",
    "ax.set_xlabel('latitud')\n",
    "ax.set_ylabel('longitud')\n",
    "\n",
    "#s= tamaño de los puntos\n",
    "#hue=clasificaciones agrega diferentes colores\n",
    "sns.scatterplot(df['latitud'], df['longitud'], ax=ax, hue=clasificaciones, palette='rainbow');\n",
    "sns.scatterplot(centers[:,0], centers[:,1], ax=ax, s=100, color='black');\n",
    "\n",
    "ax.get_legend().remove()"
   ]
  },
  {
   "cell_type": "code",
   "execution_count": 40,
   "metadata": {},
   "outputs": [
    {
     "data": {
      "text/plain": [
       "KMeans(algorithm='auto', copy_x=True, init='k-means++', max_iter=10000,\n",
       "       n_clusters=5, n_init=10, n_jobs=None, precompute_distances='auto',\n",
       "       random_state=None, tol=0.0001, verbose=0)"
      ]
     },
     "execution_count": 40,
     "metadata": {},
     "output_type": "execute_result"
    }
   ],
   "source": [
    "k_means_5 = KMeans(n_clusters=5, max_iter=10000)\n",
    "k_means_5"
   ]
  },
  {
   "cell_type": "code",
   "execution_count": 32,
   "metadata": {},
   "outputs": [],
   "source": [
    "k_means_5.fit(df[['latitud', 'longitud']])\n",
    "centers_5 = k_means_5.cluster_centers_\n",
    "\n",
    "#primero hay que poner  cuantas clases queremos que genere\n",
    "#cuando se usa la funcion predict ve a que centroide pertenece clasificacion\n",
    "clasificaciones_5 = k_means_5.predict(df[['latitud', 'longitud']])"
   ]
  },
  {
   "cell_type": "code",
   "execution_count": 33,
   "metadata": {},
   "outputs": [
    {
     "data": {
      "image/png": "[encoded data removed]",
      "text/plain": [
       "<Figure size 432x288 with 1 Axes>"
      ]
     },
     "metadata": {
      "needs_background": "light"
     },
     "output_type": "display_data"
    }
   ],
   "source": [
    "fig = plt.figure()\n",
    "ax = fig.add_subplot()\n",
    "\n",
    "ax.set_title('Ubicacion de Restaurantes TOP 100', pad=5)\n",
    "ax.set_xlabel('latitud')\n",
    "ax.set_ylabel('longitud')\n",
    "\n",
    "sns.scatterplot(df['latitud'], df['longitud'], ax=ax, hue=clasificaciones_5, palette='rainbow');\n",
    "sns.scatterplot(centers_5[:,0], centers_5[:,1], ax=ax, s=100, color='black');\n",
    "\n",
    "ax.get_legend().remove()"
   ]
  },
  {
   "cell_type": "code",
   "execution_count": 51,
   "metadata": {},
   "outputs": [
    {
     "ename": "AttributeError",
     "evalue": "'KMeans' object has no attribute 'cluster_centers_'",
     "output_type": "error",
     "traceback": [
      "\u001b[1;31m---------------------------------------------------------------------------\u001b[0m",
      "\u001b[1;31mAttributeError\u001b[0m                            Traceback (most recent call last)",
      "\u001b[1;32m<ipython-input-51-c16535ced7ee>\u001b[0m in \u001b[0;36m<module>\u001b[1;34m\u001b[0m\n\u001b[1;32m----> 1\u001b[1;33m \u001b[0mcenters2\u001b[0m \u001b[1;33m=\u001b[0m \u001b[0mk_means_5\u001b[0m\u001b[1;33m.\u001b[0m\u001b[0mcluster_centers_\u001b[0m\u001b[1;33m\u001b[0m\u001b[1;33m\u001b[0m\u001b[0m\n\u001b[0m\u001b[0;32m      2\u001b[0m \u001b[1;33m\u001b[0m\u001b[0m\n\u001b[0;32m      3\u001b[0m \u001b[0mcenters2\u001b[0m\u001b[1;33m\u001b[0m\u001b[1;33m\u001b[0m\u001b[0m\n",
      "\u001b[1;31mAttributeError\u001b[0m: 'KMeans' object has no attribute 'cluster_centers_'"
     ]
    }
   ],
   "source": [
    "state_geo = f'../../Datasets/us_states.json'\n",
    "state_unemployment = f'../../Datasets/us_unemployment-oct_2012.csv'\n",
    "state_data = pd.read_csv(state_unemployment)\n",
    "\n",
    "#location le decimos donde queremos que se centre el mapa dandole lattitude y longitud\n",
    "#Width and height es para indicar el tamaño de la ventana\n",
    "#zoom, para indicar que tan granded o pequeño se ve el mapa de inicio\n",
    "m = folium.Map(location=[48, -102], zoom_start=3, width='60%', height='60%')\n",
    "\n",
    "\n",
    "folium.Choropleth(\n",
    "    geo_data=state_geo, #el geo data en json\n",
    "    name='choropleth', \n",
    "    data=state_data, #el set de datos\n",
    "    columns=['State', 'Unemployment'], #las columnas que queremos graficar, la primera es la que se vincula con el geojson en la segunda el dato que va a graficar\n",
    "    key_on='feature.id', #indicamos con que columna del geo json que se va a asociar con la primera columna que dimos en columns\n",
    "    fill_color='YlGn', #de que color va a salir la informacion\n",
    "    fill_opacity=0.7, #la opcacidad de los colores\n",
    "    line_opacity=0.2, #Opacidad de la linea\n",
    "    legend_name='Unemployment Rate (%)' #el nombre de la linea que indica que significa los colores (o el mapa de calor)\n",
    ").add_to(m)\n",
    "\n",
    "folium.LayerControl().add_to(m)"
   ]
  },
  {
   "cell_type": "code",
   "execution_count": null,
   "metadata": {},
   "outputs": [],
   "source": []
  }
 ],
 "metadata": {
  "kernelspec": {
   "display_name": "Python 3",
   "language": "python",
   "name": "python3"
  },
  "language_info": {
   "codemirror_mode": {
    "name": "ipython",
    "version": 3
   },
   "file_extension": ".py",
   "mimetype": "text/x-python",
   "name": "python",
   "nbconvert_exporter": "python",
   "pygments_lexer": "ipython3",
   "version": "3.7.6"
  }
 },
 "nbformat": 4,
 "nbformat_minor": 4
}
